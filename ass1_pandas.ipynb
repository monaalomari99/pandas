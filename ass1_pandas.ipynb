{
 "cells": [
  {
   "cell_type": "code",
   "execution_count": 1,
   "id": "b3607e7b-f581-4292-9c51-42938fd46549",
   "metadata": {
    "tags": []
   },
   "outputs": [],
   "source": [
    "import pandas as pd\n",
    "import numpy as np\n",
    "df_car = pd.read_csv('C:/Users/ali/Downloads/car.data')\n",
    "#print(df_car)\n",
    "#df_car.head()\n",
    "#df_car.tail()\n",
    "#get indexes and column names\n",
    "#print(df_car.columns)\n",
    "#print(df_car.index)\n",
    "#print(df_car.values)"
   ]
  },
  {
   "cell_type": "code",
   "execution_count": 2,
   "id": "87a2f6ab-774d-4e2d-9151-6fa0d47f6def",
   "metadata": {},
   "outputs": [
    {
     "name": "stdout",
     "output_type": "stream",
     "text": [
      "Index(['aardvark', '1', '0', '0.1', '1.1', '0.2', '0.3', '1.2', '1.3', '1.4',\n",
      "       '1.5', '0.4', '0.5', '4', '0.6', '0.7', '1.6', '1.7'],\n",
      "      dtype='object')\n"
     ]
    }
   ],
   "source": [
    "df_zoo = pd.read_csv('C:/Users/ali/Downloads/zoo.data')\n",
    "#print(df_zoo)\n",
    "print(df_zoo.columns)"
   ]
  },
  {
   "cell_type": "code",
   "execution_count": 3,
   "id": "f69c78d5-776c-47f9-a9f9-39fa896a82f0",
   "metadata": {},
   "outputs": [],
   "source": [
    "df_flag = pd.read_csv('C:/Users/ali/Downloads/flag.data')\n",
    "#print(df_flag)\n",
    "#print(df_flag.columns)\n",
    "#df_flag.describe()\n"
   ]
  },
  {
   "cell_type": "code",
   "execution_count": 4,
   "id": "f341931a-83ab-4bac-9dbc-df461840dd0a",
   "metadata": {},
   "outputs": [
    {
     "name": "stdout",
     "output_type": "stream",
     "text": [
      "5         3.564767\n",
      "1         2.217617\n",
      "648     700.316062\n",
      "16       23.305699\n",
      "10        5.316062\n",
      "2         2.191710\n",
      "0         0.455959\n",
      "3         1.544041\n",
      "5.1       3.455959\n",
      "1.1       0.787565\n",
      "1.2       0.466321\n",
      "0.1       0.512953\n",
      "1.3       0.466321\n",
      "1.4       0.751295\n",
      "1.5       0.264249\n",
      "0.2       0.134715\n",
      "0.3       0.170984\n",
      "0.4       0.150259\n",
      "0.5       0.093264\n",
      "0.6       0.150259\n",
      "1.6       1.388601\n",
      "0.7       0.056995\n",
      "0.8       0.139896\n",
      "1.7       0.248705\n",
      "0.9       0.202073\n",
      "0.10      0.082902\n",
      "dtype: float64\n"
     ]
    }
   ],
   "source": [
    "#Choose one dataset and show what each column means\n",
    "flag_mean=df_flag.mean()\n",
    "print(flag_mean)"
   ]
  },
  {
   "cell_type": "code",
   "execution_count": 8,
   "id": "a50cdf7e-c616-40c7-84b1-d1f67d758ec5",
   "metadata": {},
   "outputs": [
    {
     "name": "stdout",
     "output_type": "stream",
     "text": [
      "                                       المدينة\n",
      "0              بنك التنمية الإجتماعية فرع عرعر\n",
      "1            بنك التنمية الإجتماعية فرع الدمام\n",
      "2      بنك التنمية الإجتماعية بالمدينة المنورة\n",
      "3            بنك التنمية الإجتماعية فرع الرياض\n",
      "4          بنك التنمية الإجتماعية بمكة المكرمة\n",
      "...                                        ...\n",
      "91584          بنك التنمية الإجتماعية بالإحساء\n",
      "91585        بنك التنمية الإجتماعية فرع الرياض\n",
      "91586  بنك التنمية الإجتماعية بالمدينة المنورة\n",
      "91587      بنك التنمية الإجتماعية بمكة المكرمة\n",
      "91588      بنك التنمية الإجتماعية فرع الدوادمي\n",
      "\n",
      "[91589 rows x 1 columns]\n"
     ]
    }
   ],
   "source": [
    "#Explore the API we used and load the most recent data from Saudi Arabia.\n",
    "df_loan = pd.read_csv('C:/Users/ali/Downloads/loan_data_q3.csv')\n",
    "#print(df_loan.columns)\n",
    "# by column name\n",
    "print(df_loan.loc[:,[\"المدينة\"]])"
   ]
  },
  {
   "cell_type": "code",
   "execution_count": 21,
   "id": "e0c7185c-4324-4d91-abe4-79ad75f99f92",
   "metadata": {},
   "outputs": [
    {
     "name": "stdout",
     "output_type": "stream",
     "text": [
      "91589\n",
      "13\n"
     ]
    }
   ],
   "source": [
    "\n",
    "#print how many rows and columns\n",
    "print(len(df_loan))\n",
    "print(len(df_loan.columns))\n"
   ]
  },
  {
   "cell_type": "code",
   "execution_count": null,
   "id": "79acda7e-610a-4517-a2f6-6abd1fe1355e",
   "metadata": {},
   "outputs": [],
   "source": []
  },
  {
   "cell_type": "code",
   "execution_count": null,
   "id": "2b27bfa2-ce38-45c2-bfbe-aa2d821efd63",
   "metadata": {},
   "outputs": [],
   "source": []
  }
 ],
 "metadata": {
  "kernelspec": {
   "display_name": "Python 3",
   "language": "python",
   "name": "python3"
  },
  "language_info": {
   "codemirror_mode": {
    "name": "ipython",
    "version": 3
   },
   "file_extension": ".py",
   "mimetype": "text/x-python",
   "name": "python",
   "nbconvert_exporter": "python",
   "pygments_lexer": "ipython3",
   "version": "3.8.8"
  }
 },
 "nbformat": 4,
 "nbformat_minor": 5
}
